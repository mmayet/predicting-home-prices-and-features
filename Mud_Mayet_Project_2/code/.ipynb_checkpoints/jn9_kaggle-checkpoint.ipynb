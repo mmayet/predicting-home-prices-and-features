{
 "cells": [
  {
   "cell_type": "code",
   "execution_count": 1,
   "metadata": {},
   "outputs": [],
   "source": [
    "import pickle\n",
    "import numpy as np\n",
    "import pandas as pd\n",
    "from sklearn.preprocessing import StandardScaler\n",
    "from sklearn.model_selection import train_test_split\n",
    "from sklearn.linear_model import LinearRegression\n",
    "np.random.seed(42)"
   ]
  },
  {
   "cell_type": "code",
   "execution_count": 2,
   "metadata": {},
   "outputs": [],
   "source": [
    "with open('../assets/Model_2_pipe.pkl', 'rb') as f:\n",
    "    Model_2_pipe = pickle.load(f)\n",
    "    \n",
    "with open('../assets/Model_4_pipe.pkl', 'rb') as f:\n",
    "    Model_4_pipe = pickle.load(f)\n",
    "    \n",
    "with open('../assets/Model_5_pipe.pkl', 'rb') as f:\n",
    "    Model_5_pipe = pickle.load(f)\n",
    "    \n",
    "with open('../assets/columns.pkl', 'rb') as f:\n",
    "    columns = pickle.load(f)"
   ]
  },
  {
   "cell_type": "code",
   "execution_count": 3,
   "metadata": {},
   "outputs": [],
   "source": [
    "kaggle = pd.read_csv('../data/test.csv', index_col='Id')"
   ]
  },
  {
   "cell_type": "code",
   "execution_count": 4,
   "metadata": {},
   "outputs": [],
   "source": [
    "cols = kaggle.columns\n",
    "cols = cols.map(lambda x: x.replace(' ', '_') if isinstance(x, str) else x)\n",
    "kaggle.columns = cols\n",
    "\n",
    "kaggle.drop('PID', 1, inplace=True)"
   ]
  },
  {
   "cell_type": "code",
   "execution_count": 5,
   "metadata": {},
   "outputs": [],
   "source": [
    "def replace_na_none(columns):\n",
    "    for x in columns:\n",
    "        kaggle[x].fillna(\"None\", inplace=True)"
   ]
  },
  {
   "cell_type": "code",
   "execution_count": 6,
   "metadata": {},
   "outputs": [],
   "source": [
    "replace_na_none([\"Alley\",\"Mas_Vnr_Type\",\"Bsmt_Cond\",\"Bsmt_Qual\",\"Bsmt_Exposure\",\"BsmtFin_Type_1\",\"BsmtFin_Type_2\",\"Fireplace_Qu\",\"Garage_Type\",\"Garage_Yr_Blt\",\"Garage_Finish\",\"Garage_Qual\",\"Garage_Cond\",\"Pool_QC\",\"Fence\",\"Misc_Feature\"])"
   ]
  },
  {
   "cell_type": "code",
   "execution_count": 7,
   "metadata": {},
   "outputs": [],
   "source": [
    "def data_cleaning():\n",
    "    kaggle.dropna(subset=['Bsmt_Full_Bath'],inplace=True)\n",
    "    kaggle['Garage_Cars'].fillna(0.0,inplace=True)\n",
    "    kaggle['Garage_Area'].fillna(0.0,inplace=True)\n",
    "    kaggle['Mas_Vnr_Area'].fillna(0.0,inplace=True)\n",
    "    kaggle['Lot_Frontage'].fillna(0.0,inplace=True)\n",
    "    kaggle.drop(['BsmtFin_SF_1', 'BsmtFin_SF_2', 'Bsmt_Unf_SF'],axis=1,inplace=True)\n",
    "    kaggle.drop(['1st_Flr_SF', '2nd_Flr_SF', 'Low_Qual_Fin_SF'],axis=1,inplace=True)\n",
    "    kaggle.drop(['Bedroom_AbvGr'],axis=1,inplace=True)"
   ]
  },
  {
   "cell_type": "code",
   "execution_count": 8,
   "metadata": {},
   "outputs": [],
   "source": [
    "data_cleaning()"
   ]
  },
  {
   "cell_type": "code",
   "execution_count": 9,
   "metadata": {},
   "outputs": [],
   "source": [
    "kaggle = pd.get_dummies(kaggle, columns=list(kaggle.select_dtypes(exclude=['int64','float64']).columns))"
   ]
  },
  {
   "cell_type": "code",
   "execution_count": 10,
   "metadata": {},
   "outputs": [],
   "source": [
    "missing = [x for x in columns if x not in kaggle.columns]\n",
    "for x in missing:\n",
    "    kaggle.insert(1,x,0)"
   ]
  },
  {
   "cell_type": "code",
   "execution_count": 11,
   "metadata": {},
   "outputs": [],
   "source": [
    "kaggle = kaggle[columns]"
   ]
  },
  {
   "cell_type": "code",
   "execution_count": 12,
   "metadata": {},
   "outputs": [],
   "source": [
    "def submit(preds,name):\n",
    "    submission = pd.DataFrame(np.expm1(preds), index=kaggle.index, columns=['SalePrice'])\n",
    "    submission.sort_index(inplace=True)\n",
    "    submission.to_csv(name)"
   ]
  },
  {
   "cell_type": "code",
   "execution_count": 13,
   "metadata": {},
   "outputs": [],
   "source": [
    "submit(Model_2_pipe.predict(kaggle),'../data/kaggle_1.csv')\n",
    "submit(Model_4_pipe.predict(kaggle),'../data/kaggle_2.csv')\n",
    "submit(Model_5_pipe.predict(kaggle),'../data/kaggle_3.csv')"
   ]
  }
 ],
 "metadata": {
  "kernelspec": {
   "display_name": "Python 3",
   "language": "python",
   "name": "python3"
  },
  "language_info": {
   "codemirror_mode": {
    "name": "ipython",
    "version": 3
   },
   "file_extension": ".py",
   "mimetype": "text/x-python",
   "name": "python",
   "nbconvert_exporter": "python",
   "pygments_lexer": "ipython3",
   "version": "3.6.5"
  }
 },
 "nbformat": 4,
 "nbformat_minor": 2
}
