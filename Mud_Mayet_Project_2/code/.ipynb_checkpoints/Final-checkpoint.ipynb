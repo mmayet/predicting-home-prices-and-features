{
 "cells": [
  {
   "cell_type": "markdown",
   "metadata": {},
   "source": [
    "# As a real estate investor, I want to maximize my ROI using data. I want to highlight which housing features have the greatest impact on re-sale value, and at the same time, I want to identify homes that are under valued. That, coupled with an average 10-15% price drop when buying with cash will allow me to not only buy properties for nearly 25% less than the actual value, but further focus on homes that have features that are easily up-sell-able with the least amount of investment."
   ]
  },
  {
   "cell_type": "markdown",
   "metadata": {},
   "source": [
    "## Which houses are under valued? And which features (of the ones that can added/upgraded) have the greatest impact?\n",
    "(i.e., I don't want to focus on `Gr_Liv_Area` because I can't change that. But if upgrading shinglings on the roof, or having a nice porch have a large effect, I can make those changes before I flip."
   ]
  },
  {
   "cell_type": "markdown",
   "metadata": {},
   "source": [
    "# turn into markdown"
   ]
  },
  {
   "cell_type": "markdown",
   "metadata": {},
   "source": [
    "markdown before functions and stuff so that it's explainable"
   ]
  },
  {
   "cell_type": "markdown",
   "metadata": {},
   "source": []
  }
 ],
 "metadata": {
  "kernelspec": {
   "display_name": "Python 3",
   "language": "python",
   "name": "python3"
  },
  "language_info": {
   "codemirror_mode": {
    "name": "ipython",
    "version": 3
   },
   "file_extension": ".py",
   "mimetype": "text/x-python",
   "name": "python",
   "nbconvert_exporter": "python",
   "pygments_lexer": "ipython3",
   "version": "3.6.5"
  }
 },
 "nbformat": 4,
 "nbformat_minor": 2
}
