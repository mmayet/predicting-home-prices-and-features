{
 "cells": [
  {
   "cell_type": "code",
   "execution_count": 1,
   "metadata": {},
   "outputs": [],
   "source": [
    "import numpy as np\n",
    "import scipy as sp\n",
    "import pandas as pd\n",
    "import seaborn as sns\n",
    "import matplotlib.pyplot as plt\n",
    "import sklearn.metrics as metrics\n",
    "from sklearn.linear_model import ElasticNet\n",
    "from sklearn.linear_model import LinearRegression\n",
    "from sklearn.model_selection import train_test_split, KFold\n",
    "from sklearn.feature_selection import SelectKBest, f_regression\n",
    "from sklearn.preprocessing import StandardScaler, PolynomialFeatures"
   ]
  },
  {
   "cell_type": "code",
   "execution_count": 2,
   "metadata": {},
   "outputs": [],
   "source": [
    "df = pd.read_csv('../data/cleaned.csv')"
   ]
  },
  {
   "cell_type": "code",
   "execution_count": 3,
   "metadata": {
    "scrolled": true
   },
   "outputs": [
    {
     "data": {
      "text/html": [
       "<div>\n",
       "<style scoped>\n",
       "    .dataframe tbody tr th:only-of-type {\n",
       "        vertical-align: middle;\n",
       "    }\n",
       "\n",
       "    .dataframe tbody tr th {\n",
       "        vertical-align: top;\n",
       "    }\n",
       "\n",
       "    .dataframe thead th {\n",
       "        text-align: right;\n",
       "    }\n",
       "</style>\n",
       "<table border=\"1\" class=\"dataframe\">\n",
       "  <thead>\n",
       "    <tr style=\"text-align: right;\">\n",
       "      <th></th>\n",
       "      <th>Unnamed: 0</th>\n",
       "      <th>Id</th>\n",
       "      <th>PID</th>\n",
       "      <th>MS_SubClass</th>\n",
       "      <th>MS_Zoning</th>\n",
       "      <th>Lot_Frontage</th>\n",
       "      <th>Lot_Area</th>\n",
       "      <th>Street</th>\n",
       "      <th>Alley</th>\n",
       "      <th>Lot_Shape</th>\n",
       "      <th>...</th>\n",
       "      <th>Screen_Porch</th>\n",
       "      <th>Pool_Area</th>\n",
       "      <th>Pool_QC</th>\n",
       "      <th>Fence</th>\n",
       "      <th>Misc_Feature</th>\n",
       "      <th>Misc_Val</th>\n",
       "      <th>Mo_Sold</th>\n",
       "      <th>Yr_Sold</th>\n",
       "      <th>Sale_Type</th>\n",
       "      <th>SalePrice</th>\n",
       "    </tr>\n",
       "  </thead>\n",
       "  <tbody>\n",
       "    <tr>\n",
       "      <th>0</th>\n",
       "      <td>0</td>\n",
       "      <td>109</td>\n",
       "      <td>533352170</td>\n",
       "      <td>60</td>\n",
       "      <td>RL</td>\n",
       "      <td>0.0</td>\n",
       "      <td>13517</td>\n",
       "      <td>Pave</td>\n",
       "      <td>None</td>\n",
       "      <td>IR1</td>\n",
       "      <td>...</td>\n",
       "      <td>0</td>\n",
       "      <td>0</td>\n",
       "      <td>None</td>\n",
       "      <td>None</td>\n",
       "      <td>None</td>\n",
       "      <td>0</td>\n",
       "      <td>3</td>\n",
       "      <td>2010</td>\n",
       "      <td>WD</td>\n",
       "      <td>130500</td>\n",
       "    </tr>\n",
       "    <tr>\n",
       "      <th>1</th>\n",
       "      <td>1</td>\n",
       "      <td>544</td>\n",
       "      <td>531379050</td>\n",
       "      <td>60</td>\n",
       "      <td>RL</td>\n",
       "      <td>43.0</td>\n",
       "      <td>11492</td>\n",
       "      <td>Pave</td>\n",
       "      <td>None</td>\n",
       "      <td>IR1</td>\n",
       "      <td>...</td>\n",
       "      <td>0</td>\n",
       "      <td>0</td>\n",
       "      <td>None</td>\n",
       "      <td>None</td>\n",
       "      <td>None</td>\n",
       "      <td>0</td>\n",
       "      <td>4</td>\n",
       "      <td>2009</td>\n",
       "      <td>WD</td>\n",
       "      <td>220000</td>\n",
       "    </tr>\n",
       "    <tr>\n",
       "      <th>2</th>\n",
       "      <td>2</td>\n",
       "      <td>153</td>\n",
       "      <td>535304180</td>\n",
       "      <td>20</td>\n",
       "      <td>RL</td>\n",
       "      <td>68.0</td>\n",
       "      <td>7922</td>\n",
       "      <td>Pave</td>\n",
       "      <td>None</td>\n",
       "      <td>Reg</td>\n",
       "      <td>...</td>\n",
       "      <td>0</td>\n",
       "      <td>0</td>\n",
       "      <td>None</td>\n",
       "      <td>None</td>\n",
       "      <td>None</td>\n",
       "      <td>0</td>\n",
       "      <td>1</td>\n",
       "      <td>2010</td>\n",
       "      <td>WD</td>\n",
       "      <td>109000</td>\n",
       "    </tr>\n",
       "    <tr>\n",
       "      <th>3</th>\n",
       "      <td>3</td>\n",
       "      <td>318</td>\n",
       "      <td>916386060</td>\n",
       "      <td>60</td>\n",
       "      <td>RL</td>\n",
       "      <td>73.0</td>\n",
       "      <td>9802</td>\n",
       "      <td>Pave</td>\n",
       "      <td>None</td>\n",
       "      <td>Reg</td>\n",
       "      <td>...</td>\n",
       "      <td>0</td>\n",
       "      <td>0</td>\n",
       "      <td>None</td>\n",
       "      <td>None</td>\n",
       "      <td>None</td>\n",
       "      <td>0</td>\n",
       "      <td>4</td>\n",
       "      <td>2010</td>\n",
       "      <td>WD</td>\n",
       "      <td>174000</td>\n",
       "    </tr>\n",
       "    <tr>\n",
       "      <th>4</th>\n",
       "      <td>4</td>\n",
       "      <td>255</td>\n",
       "      <td>906425045</td>\n",
       "      <td>50</td>\n",
       "      <td>RL</td>\n",
       "      <td>82.0</td>\n",
       "      <td>14235</td>\n",
       "      <td>Pave</td>\n",
       "      <td>None</td>\n",
       "      <td>IR1</td>\n",
       "      <td>...</td>\n",
       "      <td>0</td>\n",
       "      <td>0</td>\n",
       "      <td>None</td>\n",
       "      <td>None</td>\n",
       "      <td>None</td>\n",
       "      <td>0</td>\n",
       "      <td>3</td>\n",
       "      <td>2010</td>\n",
       "      <td>WD</td>\n",
       "      <td>138500</td>\n",
       "    </tr>\n",
       "  </tbody>\n",
       "</table>\n",
       "<p>5 rows × 75 columns</p>\n",
       "</div>"
      ],
      "text/plain": [
       "   Unnamed: 0   Id        PID  MS_SubClass MS_Zoning  Lot_Frontage  Lot_Area  \\\n",
       "0           0  109  533352170           60        RL           0.0     13517   \n",
       "1           1  544  531379050           60        RL          43.0     11492   \n",
       "2           2  153  535304180           20        RL          68.0      7922   \n",
       "3           3  318  916386060           60        RL          73.0      9802   \n",
       "4           4  255  906425045           50        RL          82.0     14235   \n",
       "\n",
       "  Street Alley Lot_Shape    ...     Screen_Porch Pool_Area Pool_QC Fence  \\\n",
       "0   Pave  None       IR1    ...                0         0    None  None   \n",
       "1   Pave  None       IR1    ...                0         0    None  None   \n",
       "2   Pave  None       Reg    ...                0         0    None  None   \n",
       "3   Pave  None       Reg    ...                0         0    None  None   \n",
       "4   Pave  None       IR1    ...                0         0    None  None   \n",
       "\n",
       "  Misc_Feature Misc_Val Mo_Sold Yr_Sold Sale_Type  SalePrice  \n",
       "0         None        0       3    2010       WD      130500  \n",
       "1         None        0       4    2009       WD      220000  \n",
       "2         None        0       1    2010       WD      109000  \n",
       "3         None        0       4    2010       WD      174000  \n",
       "4         None        0       3    2010       WD      138500  \n",
       "\n",
       "[5 rows x 75 columns]"
      ]
     },
     "execution_count": 3,
     "metadata": {},
     "output_type": "execute_result"
    }
   ],
   "source": [
    "df.head()"
   ]
  },
  {
   "cell_type": "code",
   "execution_count": 4,
   "metadata": {},
   "outputs": [],
   "source": [
    "models_df = pd.DataFrame(columns=['score','explained_variance','mean_absolute_error','mean_squared_error','median_absolute_error','r2'],\n",
    "                         index=['Model_1','Model_1_test','Model_2','Model_2_test','Model_3','Model_3_test','Model_4','Model_4_test','Model_5','Model_5_test'])"
   ]
  },
  {
   "cell_type": "code",
   "execution_count": 5,
   "metadata": {},
   "outputs": [],
   "source": [
    "def all_the_metrics(model_name,score_1,y_t,y_p,score_2,y_t_test,y_p_test):\n",
    "    models_df.loc[model_name,'score'] = score_1\n",
    "    models_df.loc[model_name,'explained_variance'] = metrics.explained_variance_score(y_t,y_p)\n",
    "    models_df.loc[model_name,'mean_absolute_error'] = metrics.mean_absolute_error(y_t,y_p)\n",
    "    models_df.loc[model_name,'mean_squared_error'] = metrics.mean_squared_error(y_t,y_p)\n",
    "    #models_df.loc[model_name,'mean_squared_log_error'] = metrics.mean_squared_log_error(y_t,y_p)\n",
    "    models_df.loc[model_name,'median_absolute_error'] = metrics.median_absolute_error(y_t,y_p)\n",
    "    models_df.loc[model_name,'r2'] = metrics.r2_score(y_t,y_p)\n",
    "    models_df.loc[model_name+\"_test\",'score'] = score_2\n",
    "    models_df.loc[model_name+\"_test\",'explained_variance'] = metrics.explained_variance_score(y_t_test,y_p_test)\n",
    "    models_df.loc[model_name+\"_test\",'mean_absolute_error'] = metrics.mean_absolute_error(y_t_test,y_p_test)\n",
    "    models_df.loc[model_name+\"_test\",'mean_squared_error'] = metrics.mean_squared_error(y_t_test,y_p_test)\n",
    "    #models_df.loc[model_name+\"_test\",'mean_squared_log_error'] = metrics.mean_squared_log_error(y_t_test,y_p_test)\n",
    "    models_df.loc[model_name+\"_test\",'median_absolute_error'] = metrics.median_absolute_error(y_t_test,y_p_test)\n",
    "    models_df.loc[model_name+\"_test\",'r2'] = metrics.r2_score(y_t_test,y_p_test)\n",
    "    #return models_df"
   ]
  },
  {
   "cell_type": "markdown",
   "metadata": {},
   "source": [
    "### All Numeric Models\n",
    "\n",
    "I'm going to start with all the numeric columns (35 in total), StandardScale them, and then try varying feature selections on them."
   ]
  },
  {
   "cell_type": "code",
   "execution_count": 6,
   "metadata": {},
   "outputs": [],
   "source": [
    "lr = LinearRegression()\n",
    "\n",
    "num_features = list(df.select_dtypes(exclude='object').columns)[2:30]\n",
    "X = df[num_features]\n",
    "y = df['SalePrice']\n",
    "\n",
    "X_train, X_test, y_train, y_test = train_test_split(X, y, test_size=0.33, random_state=42)\n",
    "\n",
    "ss = StandardScaler()\n",
    "\n",
    "X_train_ss = ss.fit_transform(X_train,y_train)\n",
    "X_test_ss = ss.transform(X_test)"
   ]
  },
  {
   "cell_type": "markdown",
   "metadata": {},
   "source": [
    "#### Model 1 - Using all numeric columns"
   ]
  },
  {
   "cell_type": "code",
   "execution_count": 7,
   "metadata": {},
   "outputs": [],
   "source": [
    "lr.fit(X_train_ss,y_train)\n",
    "all_the_metrics(\"Model_1\",lr.score(X_train_ss,y_train),y_train,lr.predict(X_train_ss),lr.score(X_test_ss,y_test),y_test,lr.predict(X_test_ss))"
   ]
  },
  {
   "cell_type": "markdown",
   "metadata": {},
   "source": [
    "#### Model 2 - SelectKBest = 9"
   ]
  },
  {
   "cell_type": "code",
   "execution_count": 8,
   "metadata": {},
   "outputs": [],
   "source": [
    "kb = SelectKBest(score_func=f_regression, k=9)\n",
    "X_train_kb = kb.fit_transform(X_train_ss,y_train)\n",
    "X_test_kb = kb.transform(X_test_ss)\n",
    "\n",
    "lr.fit(X_train_kb,y_train)\n",
    "all_the_metrics(\"Model_2\",lr.score(X_train_kb,y_train),y_train,lr.predict(X_train_kb),lr.score(X_test_kb,y_test),y_test,lr.predict(X_test_kb))"
   ]
  },
  {
   "cell_type": "markdown",
   "metadata": {},
   "source": [
    "#### Model 3 - SelectKBest = 15"
   ]
  },
  {
   "cell_type": "code",
   "execution_count": 9,
   "metadata": {},
   "outputs": [],
   "source": [
    "kb = SelectKBest(score_func=f_regression, k=15)\n",
    "X_train_kb = kb.fit_transform(X_train_ss,y_train)\n",
    "X_test_kb = kb.transform(X_test_ss)\n",
    "\n",
    "lr.fit(X_train_kb,y_train)\n",
    "all_the_metrics(\"Model_3\",lr.score(X_train_kb,y_train),y_train,lr.predict(X_train_kb),lr.score(X_test_kb,y_test),y_test,lr.predict(X_test_kb))"
   ]
  },
  {
   "cell_type": "markdown",
   "metadata": {},
   "source": [
    "#### Model 4 - SelectKBest = 5"
   ]
  },
  {
   "cell_type": "code",
   "execution_count": 10,
   "metadata": {},
   "outputs": [],
   "source": [
    "kb = SelectKBest(score_func=f_regression, k=5)\n",
    "X_train_kb = kb.fit_transform(X_train_ss,y_train)\n",
    "X_test_kb = kb.transform(X_test_ss)\n",
    "\n",
    "lr.fit(X_train_kb,y_train)\n",
    "all_the_metrics(\"Model_4\",lr.score(X_train_kb,y_train),y_train,lr.predict(X_train_kb),lr.score(X_test_kb,y_test),y_test,lr.predict(X_test_kb))"
   ]
  },
  {
   "cell_type": "markdown",
   "metadata": {},
   "source": [
    "#### Model 5 - SelectKBest = 21"
   ]
  },
  {
   "cell_type": "code",
   "execution_count": 11,
   "metadata": {},
   "outputs": [],
   "source": [
    "kb = SelectKBest(score_func=f_regression, k=21)\n",
    "X_train_kb = kb.fit_transform(X_train_ss,y_train)\n",
    "X_test_kb = kb.transform(X_test_ss)\n",
    "\n",
    "lr.fit(X_train_kb,y_train)\n",
    "all_the_metrics(\"Model_5\",lr.score(X_train_kb,y_train),y_train,lr.predict(X_train_kb),lr.score(X_test_kb,y_test),y_test,lr.predict(X_test_kb))"
   ]
  },
  {
   "cell_type": "markdown",
   "metadata": {},
   "source": [
    "#### Model 6 - SelectKBest = 27"
   ]
  },
  {
   "cell_type": "code",
   "execution_count": 13,
   "metadata": {},
   "outputs": [],
   "source": [
    "kb = SelectKBest(score_func=f_regression, k=27)\n",
    "X_train_kb = kb.fit_transform(X_train_ss,y_train)\n",
    "X_test_kb = kb.transform(X_test_ss)\n",
    "\n",
    "lr.fit(X_train_kb,y_train)\n",
    "all_the_metrics(\"Model_6\",lr.score(X_train_kb,y_train),y_train,lr.predict(X_train_kb),lr.score(X_test_kb,y_test),y_test,lr.predict(X_test_kb))"
   ]
  },
  {
   "cell_type": "markdown",
   "metadata": {},
   "source": [
    "### It really seems like having more numeric columns helps. Let's try other feature selection types.\n",
    "\n",
    "Let's look into adjusting the weight of our coefficients."
   ]
  },
  {
   "cell_type": "markdown",
   "metadata": {},
   "source": [
    "#### Model 7 - ElasticNet l1 = .5"
   ]
  },
  {
   "cell_type": "code",
   "execution_count": 14,
   "metadata": {},
   "outputs": [],
   "source": [
    "elnet = ElasticNet(random_state=42)\n",
    "elnet.fit(X_train_ss,y_train)\n",
    "\n",
    "all_the_metrics(\"Model_7\",elnet.score(X_train_ss,y_train),y_train,elnet.predict(X_train_ss),elnet.score(X_test_ss,y_test),y_test,elnet.predict(X_test_ss))"
   ]
  },
  {
   "cell_type": "markdown",
   "metadata": {},
   "source": [
    "#### Model 8 - ElasticNet l1 = .75"
   ]
  },
  {
   "cell_type": "code",
   "execution_count": 15,
   "metadata": {},
   "outputs": [],
   "source": [
    "elnet = ElasticNet(random_state=42,l1_ratio=.75)\n",
    "elnet.fit(X_train_ss,y_train)\n",
    "\n",
    "all_the_metrics(\"Model_8\",elnet.score(X_train_ss,y_train),y_train,elnet.predict(X_train_ss),elnet.score(X_test_ss,y_test),y_test,elnet.predict(X_test_ss))"
   ]
  },
  {
   "cell_type": "markdown",
   "metadata": {},
   "source": [
    "#### Model 9 - ElasticNet l1 = .25"
   ]
  },
  {
   "cell_type": "code",
   "execution_count": 16,
   "metadata": {},
   "outputs": [],
   "source": [
    "elnet = ElasticNet(random_state=42,l1_ratio=.25)\n",
    "elnet.fit(X_train_ss,y_train)\n",
    "\n",
    "all_the_metrics(\"Model_9\",elnet.score(X_train_ss,y_train),y_train,elnet.predict(X_train_ss),elnet.score(X_test_ss,y_test),y_test,elnet.predict(X_test_ss))"
   ]
  },
  {
   "cell_type": "markdown",
   "metadata": {},
   "source": [
    "#### Model 10 - ElasticNet l1 = 1"
   ]
  },
  {
   "cell_type": "code",
   "execution_count": 17,
   "metadata": {},
   "outputs": [],
   "source": [
    "elnet = ElasticNet(random_state=42,l1_ratio=1)\n",
    "elnet.fit(X_train_ss,y_train)\n",
    "\n",
    "all_the_metrics(\"Model_10\",elnet.score(X_train_ss,y_train),y_train,elnet.predict(X_train_ss),elnet.score(X_test_ss,y_test),y_test,elnet.predict(X_test_ss))"
   ]
  },
  {
   "cell_type": "markdown",
   "metadata": {},
   "source": [
    "#### Model 11 - ElasticNet l1 = 0"
   ]
  },
  {
   "cell_type": "code",
   "execution_count": 18,
   "metadata": {},
   "outputs": [
    {
     "name": "stderr",
     "output_type": "stream",
     "text": [
      "C:\\Users\\mayet\\Anaconda3\\lib\\site-packages\\sklearn\\linear_model\\coordinate_descent.py:491: ConvergenceWarning: Objective did not converge. You might want to increase the number of iterations. Fitting data with very small alpha may cause precision problems.\n",
      "  ConvergenceWarning)\n"
     ]
    }
   ],
   "source": [
    "elnet = ElasticNet(random_state=42,l1_ratio=0)\n",
    "elnet.fit(X_train_ss,y_train)\n",
    "\n",
    "all_the_metrics(\"Model_11\",elnet.score(X_train_ss,y_train),y_train,elnet.predict(X_train_ss),elnet.score(X_test_ss,y_test),y_test,elnet.predict(X_test_ss))"
   ]
  },
  {
   "cell_type": "code",
   "execution_count": 19,
   "metadata": {},
   "outputs": [
    {
     "data": {
      "text/html": [
       "<div>\n",
       "<style scoped>\n",
       "    .dataframe tbody tr th:only-of-type {\n",
       "        vertical-align: middle;\n",
       "    }\n",
       "\n",
       "    .dataframe tbody tr th {\n",
       "        vertical-align: top;\n",
       "    }\n",
       "\n",
       "    .dataframe thead th {\n",
       "        text-align: right;\n",
       "    }\n",
       "</style>\n",
       "<table border=\"1\" class=\"dataframe\">\n",
       "  <thead>\n",
       "    <tr style=\"text-align: right;\">\n",
       "      <th></th>\n",
       "      <th>score</th>\n",
       "      <th>explained_variance</th>\n",
       "      <th>mean_absolute_error</th>\n",
       "      <th>mean_squared_error</th>\n",
       "      <th>median_absolute_error</th>\n",
       "      <th>r2</th>\n",
       "    </tr>\n",
       "  </thead>\n",
       "  <tbody>\n",
       "    <tr>\n",
       "      <th>Model_6_test</th>\n",
       "      <td>0.869553</td>\n",
       "      <td>0.869683</td>\n",
       "      <td>21506.3</td>\n",
       "      <td>9.15806e+08</td>\n",
       "      <td>15418.4</td>\n",
       "      <td>0.869553</td>\n",
       "    </tr>\n",
       "    <tr>\n",
       "      <th>Model_5_test</th>\n",
       "      <td>0.868634</td>\n",
       "      <td>0.868693</td>\n",
       "      <td>21542.5</td>\n",
       "      <td>9.22259e+08</td>\n",
       "      <td>15638.6</td>\n",
       "      <td>0.868634</td>\n",
       "    </tr>\n",
       "    <tr>\n",
       "      <th>Model_1_test</th>\n",
       "      <td>0.867291</td>\n",
       "      <td>0.867393</td>\n",
       "      <td>21668.8</td>\n",
       "      <td>9.31689e+08</td>\n",
       "      <td>15504.1</td>\n",
       "      <td>0.867291</td>\n",
       "    </tr>\n",
       "    <tr>\n",
       "      <th>Model_10_test</th>\n",
       "      <td>0.867288</td>\n",
       "      <td>0.86739</td>\n",
       "      <td>21668.6</td>\n",
       "      <td>9.31708e+08</td>\n",
       "      <td>15497.3</td>\n",
       "      <td>0.867288</td>\n",
       "    </tr>\n",
       "    <tr>\n",
       "      <th>Model_3_test</th>\n",
       "      <td>0.861654</td>\n",
       "      <td>0.861755</td>\n",
       "      <td>22174.8</td>\n",
       "      <td>9.71261e+08</td>\n",
       "      <td>15758.7</td>\n",
       "      <td>0.861654</td>\n",
       "    </tr>\n",
       "  </tbody>\n",
       "</table>\n",
       "</div>"
      ],
      "text/plain": [
       "                  score explained_variance mean_absolute_error  \\\n",
       "Model_6_test   0.869553           0.869683             21506.3   \n",
       "Model_5_test   0.868634           0.868693             21542.5   \n",
       "Model_1_test   0.867291           0.867393             21668.8   \n",
       "Model_10_test  0.867288            0.86739             21668.6   \n",
       "Model_3_test   0.861654           0.861755             22174.8   \n",
       "\n",
       "              mean_squared_error median_absolute_error        r2  \n",
       "Model_6_test         9.15806e+08               15418.4  0.869553  \n",
       "Model_5_test         9.22259e+08               15638.6  0.868634  \n",
       "Model_1_test         9.31689e+08               15504.1  0.867291  \n",
       "Model_10_test        9.31708e+08               15497.3  0.867288  \n",
       "Model_3_test         9.71261e+08               15758.7  0.861654  "
      ]
     },
     "execution_count": 19,
     "metadata": {},
     "output_type": "execute_result"
    }
   ],
   "source": [
    "models_df.sort_values('r2',ascending=False).head()"
   ]
  },
  {
   "cell_type": "code",
   "execution_count": 20,
   "metadata": {},
   "outputs": [
    {
     "data": {
      "text/html": [
       "<div>\n",
       "<style scoped>\n",
       "    .dataframe tbody tr th:only-of-type {\n",
       "        vertical-align: middle;\n",
       "    }\n",
       "\n",
       "    .dataframe tbody tr th {\n",
       "        vertical-align: top;\n",
       "    }\n",
       "\n",
       "    .dataframe thead th {\n",
       "        text-align: right;\n",
       "    }\n",
       "</style>\n",
       "<table border=\"1\" class=\"dataframe\">\n",
       "  <thead>\n",
       "    <tr style=\"text-align: right;\">\n",
       "      <th></th>\n",
       "      <th>score</th>\n",
       "      <th>explained_variance</th>\n",
       "      <th>mean_absolute_error</th>\n",
       "      <th>mean_squared_error</th>\n",
       "      <th>median_absolute_error</th>\n",
       "      <th>r2</th>\n",
       "    </tr>\n",
       "  </thead>\n",
       "  <tbody>\n",
       "    <tr>\n",
       "      <th>Model_6_test</th>\n",
       "      <td>0.869553</td>\n",
       "      <td>0.869683</td>\n",
       "      <td>21506.3</td>\n",
       "      <td>9.15806e+08</td>\n",
       "      <td>15418.4</td>\n",
       "      <td>0.869553</td>\n",
       "    </tr>\n",
       "    <tr>\n",
       "      <th>Model_5_test</th>\n",
       "      <td>0.868634</td>\n",
       "      <td>0.868693</td>\n",
       "      <td>21542.5</td>\n",
       "      <td>9.22259e+08</td>\n",
       "      <td>15638.6</td>\n",
       "      <td>0.868634</td>\n",
       "    </tr>\n",
       "    <tr>\n",
       "      <th>Model_1_test</th>\n",
       "      <td>0.867291</td>\n",
       "      <td>0.867393</td>\n",
       "      <td>21668.8</td>\n",
       "      <td>9.31689e+08</td>\n",
       "      <td>15504.1</td>\n",
       "      <td>0.867291</td>\n",
       "    </tr>\n",
       "    <tr>\n",
       "      <th>Model_10_test</th>\n",
       "      <td>0.867288</td>\n",
       "      <td>0.86739</td>\n",
       "      <td>21668.6</td>\n",
       "      <td>9.31708e+08</td>\n",
       "      <td>15497.3</td>\n",
       "      <td>0.867288</td>\n",
       "    </tr>\n",
       "    <tr>\n",
       "      <th>Model_3_test</th>\n",
       "      <td>0.861654</td>\n",
       "      <td>0.861755</td>\n",
       "      <td>22174.8</td>\n",
       "      <td>9.71261e+08</td>\n",
       "      <td>15758.7</td>\n",
       "      <td>0.861654</td>\n",
       "    </tr>\n",
       "  </tbody>\n",
       "</table>\n",
       "</div>"
      ],
      "text/plain": [
       "                  score explained_variance mean_absolute_error  \\\n",
       "Model_6_test   0.869553           0.869683             21506.3   \n",
       "Model_5_test   0.868634           0.868693             21542.5   \n",
       "Model_1_test   0.867291           0.867393             21668.8   \n",
       "Model_10_test  0.867288            0.86739             21668.6   \n",
       "Model_3_test   0.861654           0.861755             22174.8   \n",
       "\n",
       "              mean_squared_error median_absolute_error        r2  \n",
       "Model_6_test         9.15806e+08               15418.4  0.869553  \n",
       "Model_5_test         9.22259e+08               15638.6  0.868634  \n",
       "Model_1_test         9.31689e+08               15504.1  0.867291  \n",
       "Model_10_test        9.31708e+08               15497.3  0.867288  \n",
       "Model_3_test         9.71261e+08               15758.7  0.861654  "
      ]
     },
     "execution_count": 20,
     "metadata": {},
     "output_type": "execute_result"
    }
   ],
   "source": [
    "models_df.sort_values('score',ascending=False).head()"
   ]
  },
  {
   "cell_type": "markdown",
   "metadata": {},
   "source": [
    "### So here's what I'm seeing. Model's 6, 5, 1, and 10 are doing the best by both metrics.\n",
    "\n",
    "- Model_6_test: SelectKBest = 27 (using the majority of the numeric columns)\n",
    "- Model_5_test: SelectKBest = 21 (using the majority of the numeric columns)\n",
    "- Model_1_test: All Numeric (using the majority of the numeric columns)\n",
    "- Model_10_test: l1=1 (Fully Lasso)"
   ]
  }
 ],
 "metadata": {
  "kernelspec": {
   "display_name": "Python 3",
   "language": "python",
   "name": "python3"
  },
  "language_info": {
   "codemirror_mode": {
    "name": "ipython",
    "version": 3
   },
   "file_extension": ".py",
   "mimetype": "text/x-python",
   "name": "python",
   "nbconvert_exporter": "python",
   "pygments_lexer": "ipython3",
   "version": "3.6.5"
  }
 },
 "nbformat": 4,
 "nbformat_minor": 2
}
