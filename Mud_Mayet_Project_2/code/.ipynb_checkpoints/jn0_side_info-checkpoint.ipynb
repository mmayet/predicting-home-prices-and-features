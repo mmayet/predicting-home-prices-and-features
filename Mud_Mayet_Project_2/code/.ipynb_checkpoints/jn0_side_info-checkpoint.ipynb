{
 "cells": [
  {
   "cell_type": "markdown",
   "metadata": {},
   "source": [
    "- `MS_SubClass` - Good\n",
    "- `MS_Zoning` - Good\n",
    "- `Street` - Good\n",
    "- `Alley` - Good\n",
    "- `Lot_Shape` - Good\n",
    "- `Land_Contour` - Good\n",
    "- `Utilities` - Good (Only 3 ['AllPub', 'NoSeWa', 'NoSewr'])\n",
    "- `Lot_Config` - Good\n",
    "- `Land_Slope` - Good\n",
    "- `Neighborhood` - Good\n",
    "- `Condition_1` - Good\n",
    "- `Condition_2` - Good (missing 1 of 9)\n",
    "- `Bldg_Type` - Good\n",
    "- `House_Style` - Good\n",
    "- `Overall_Qual` - Good\n",
    "- `Overall_Cond` - Good (missing #10 out of 10)\n",
    "- `Year_Built` - Good (113 unique)\n",
    "- `Year_Remod/Add` - Good (61 unique)\n",
    "- `Roof_Style` - Good\n",
    "- `Roof_Matl` - Good (no Metal or Roll)\n",
    "- `Exterior_1st` - Good (missing Other PreCast)\n",
    "- `Exterior_2nd` - Good (missing BrkComm CemntBd Other PreCast WdShing)\n",
    "                    BrkComm = Brk Cmn\n",
    "                    CemntBd = CmentBd\n",
    "                    Wd Shing = Wd Shng\n",
    "- `Mas_Vnr_Type` - Had `nan` use `df[\"Mas_Vnr_Type\"].fillna(\"None\", inplace=True)`\n",
    "- `Exter_Qual` - Good (no \"Poor\")\n",
    "- `Exter_Cond` - Good \n",
    "- `Bsmt_Qual` - Had `nan` use `df[\"Bsmt_Qual\"].fillna(\"None\", inplace=True)`\n",
    "- `Bsmt_Cond` - Good\n",
    "- `Bsmt_Exposure` - Had to `fillna(\"NA\", inplace=True)`\n",
    "- `BsmtFin_Type_1` - Had to `fillna(\"NA\", inplace=True)`\n",
    "- `BsmtFin_Type_2` - Had to `fillna(\"NA\", inplace=True)`\n",
    "- `Heating` - Good (no \"Floor\")\n",
    "- `Heating_QC` - Good\n",
    "- `Central_Air` - Good\n",
    "- `Electrical` - Good\n",
    "- `Kitchen_AbvGr` - Good\n",
    "- `Kitchen_Qual` - Good (no \"Poor\")\n",
    "- `Functional` - Good\n",
    "- `Fireplace_Qu` - Had to `fillna(\"NA\", inplace=True)`\n",
    "- `Garage_Type` - Had to `fillna(\"NA\", inplace=True)`\n",
    "- `Garage_Yr_Blt` - missing year Had to `fillna(df[\"Year_Built\"], inplace=True)`\n",
    "    - This is different since it needs to be a number. But, if there's no garage, we should identify that some way?\n",
    "- `Garage_Finish` - Had to `fillna(\"NA\", inplace=True)`\n",
    "- `Garage_Qual` - Had to `df[\"Garage_Qual\"].fillna(\"None\", inplace=True)`\n",
    "    - Check if there is a garage\n",
    "- `Garage_Cars` - `df[\"Garage_Cars\"].fillna(0., inplace=True)`\n",
    "    - only one case, it;s detached without quality\n",
    "    - `np.mean(df[\"Garage_Cars\"]) + np.std(df[\"Garage_Cars\"])` gives us 2.5. I think it's same to go with 3.0\n",
    "- `Garage_Cond` - fill na\n",
    "- `Pool_QC` - fill na\n",
    "- `Fence` - fill na\n",
    "- `Misc_Feature` - fillna\n",
    "- `Sale Condition` - not present\n",
    "- `garage unit` - not present\n",
    "- `` - Good"
   ]
  }
 ],
 "metadata": {
  "kernelspec": {
   "display_name": "Python 3",
   "language": "python",
   "name": "python3"
  },
  "language_info": {
   "codemirror_mode": {
    "name": "ipython",
    "version": 3
   },
   "file_extension": ".py",
   "mimetype": "text/x-python",
   "name": "python",
   "nbconvert_exporter": "python",
   "pygments_lexer": "ipython3",
   "version": "3.6.5"
  }
 },
 "nbformat": 4,
 "nbformat_minor": 2
}
