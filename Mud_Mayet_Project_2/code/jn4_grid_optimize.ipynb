{
 "cells": [
  {
   "cell_type": "code",
   "execution_count": 1,
   "metadata": {},
   "outputs": [],
   "source": [
    "import csv\n",
    "import pickle\n",
    "import numpy as np\n",
    "import scipy as sp\n",
    "import pandas as pd\n",
    "import seaborn as sns\n",
    "import matplotlib.pyplot as plt\n",
    "import sklearn.metrics as metrics\n",
    "from sklearn.pipeline import Pipeline\n",
    "from sklearn.model_selection import GridSearchCV\n",
    "from sklearn.model_selection import train_test_split, KFold\n",
    "from sklearn.metrics import recall_score, make_scorer, f1_score\n",
    "from sklearn.metrics import recall_score, make_scorer, f1_score\n",
    "from sklearn.linear_model import LinearRegression, ElasticNetCV\n",
    "from sklearn.preprocessing import StandardScaler, PolynomialFeatures\n",
    "from sklearn.feature_selection import SelectKBest, f_regression, VarianceThreshold, SelectKBest"
   ]
  },
  {
   "cell_type": "code",
   "execution_count": 2,
   "metadata": {},
   "outputs": [],
   "source": [
    "df = pd.read_csv('../data/cleaned.csv') "
   ]
  },
  {
   "cell_type": "code",
   "execution_count": 3,
   "metadata": {},
   "outputs": [],
   "source": [
    "models_df = pd.DataFrame(columns=['score','explained_variance','mean_absolute_error','mean_squared_error','median_absolute_error','r2'],\n",
    "                         index=['Model_1','Model_1_test','Model_2','Model_2_test','Model_3','Model_3_test','Model_4','Model_4_test','Model_5','Model_5_test'])\n",
    "\n",
    "def all_the_metrics(model_name,score_1,y_t,y_p,score_2,y_t_test,y_p_test):\n",
    "    models_df.loc[model_name,'score'] = score_1\n",
    "    models_df.loc[model_name,'explained_variance'] = metrics.explained_variance_score(y_t,y_p)\n",
    "    models_df.loc[model_name,'mean_absolute_error'] = metrics.mean_absolute_error(y_t,y_p)\n",
    "    models_df.loc[model_name,'mean_squared_error'] = metrics.mean_squared_error(y_t,y_p)\n",
    "    models_df.loc[model_name,'median_absolute_error'] = metrics.median_absolute_error(y_t,y_p)\n",
    "    models_df.loc[model_name,'r2'] = metrics.r2_score(y_t,y_p)\n",
    "    models_df.loc[model_name+\"_test\",'score'] = score_2\n",
    "    models_df.loc[model_name+\"_test\",'explained_variance'] = metrics.explained_variance_score(y_t_test,y_p_test)\n",
    "    models_df.loc[model_name+\"_test\",'mean_absolute_error'] = metrics.mean_absolute_error(y_t_test,y_p_test)\n",
    "    models_df.loc[model_name+\"_test\",'mean_squared_error'] = metrics.mean_squared_error(y_t_test,y_p_test)\n",
    "    models_df.loc[model_name+\"_test\",'median_absolute_error'] = metrics.median_absolute_error(y_t_test,y_p_test)\n",
    "    models_df.loc[model_name+\"_test\",'r2'] = metrics.r2_score(y_t_test,y_p_test)\n",
    "    #return models_df[model_name+\"_test\"]"
   ]
  },
  {
   "cell_type": "code",
   "execution_count": 4,
   "metadata": {},
   "outputs": [],
   "source": [
    "cat_features = ['MS_Zoning','Street','Alley','Lot_Shape','Land_Contour','Utilities','Lot_Config','Land_Slope','Neighborhood','Condition_1','Condition_2','Bldg_Type','House_Style','Roof_Style','Roof_Matl','Exterior_1st','Exterior_2nd','Mas_Vnr_Type','Exter_Qual','Exter_Cond','Foundation','Bsmt_Qual','Bsmt_Cond','Bsmt_Exposure','BsmtFin_Type_1','BsmtFin_Type_2','Heating','Heating_QC','Central_Air','Electrical','Kitchen_Qual','Functional','Fireplace_Qu','Garage_Type','Garage_Yr_Blt','Garage_Finish','Garage_Qual','Garage_Cond','Paved_Drive','Pool_QC','Fence','Misc_Feature','Sale_Type']\n",
    "df = pd.get_dummies(df, columns=cat_features)"
   ]
  },
  {
   "cell_type": "code",
   "execution_count": 5,
   "metadata": {},
   "outputs": [],
   "source": [
    "all_cols = df.drop(['SalePrice','SalePrice_deskewed','Unnamed: 0', 'Id', 'PID'], 1).columns"
   ]
  },
  {
   "cell_type": "code",
   "execution_count": 6,
   "metadata": {},
   "outputs": [],
   "source": [
    "X = df[all_cols]\n",
    "y = df['SalePrice_deskewed']\n",
    "\n",
    "X_train, X_test, y_train, y_test = train_test_split(X, y, test_size=0.33, random_state=42)"
   ]
  },
  {
   "cell_type": "code",
   "execution_count": 7,
   "metadata": {},
   "outputs": [],
   "source": [
    "recall_scorer = make_scorer(recall_score)\n",
    "\n",
    "steps = [\n",
    "    (\"var_thres\", VarianceThreshold(.05)),\n",
    "    (\"scaler\", StandardScaler()),\n",
    "    (\"kbest\", SelectKBest(score_func=f_regression,k=9)),\n",
    "    (\"encv\", ElasticNetCV(cv=5,random_state=42,l1_ratio=1))\n",
    "]\n",
    "\n",
    "pipe = Pipeline(steps)\n",
    "\n",
    "gs_model_1 = pipe.fit(X_train,y_train)\n",
    "all_the_metrics(\"Model_1\",gs_model_1.score(X_train,y_train),y_train,gs_model_1.predict(X_train),gs_model_1.score(X_test,y_test),y_test,gs_model_1.predict(X_test))"
   ]
  },
  {
   "cell_type": "code",
   "execution_count": 8,
   "metadata": {},
   "outputs": [
    {
     "name": "stdout",
     "output_type": "stream",
     "text": [
      "Fitting 3 folds for each of 12 candidates, totalling 36 fits\n"
     ]
    },
    {
     "name": "stderr",
     "output_type": "stream",
     "text": [
      "[Parallel(n_jobs=3)]: Done  36 out of  36 | elapsed:    3.1s finished\n"
     ]
    }
   ],
   "source": [
    "steps = [\n",
    "    (\"var_thres\", VarianceThreshold(.99)),\n",
    "    (\"scaler\", StandardScaler()),\n",
    "    (\"kbest\", SelectKBest(score_func=f_regression,k=17)),\n",
    "    (\"encv\", ElasticNetCV(random_state=42,l1_ratio=1))\n",
    "]\n",
    "\n",
    "pipe = Pipeline(steps)\n",
    "\n",
    "param_grid = {\n",
    "    \"var_thres__threshold\":[.1,.8,.95,.99],\n",
    "    \"encv__cv\": [3,7,13]\n",
    "}\n",
    "\n",
    "gs = GridSearchCV(pipe, param_grid, verbose=1,\n",
    "                      cv=3,\n",
    "                      return_train_score=True,\n",
    "                      n_jobs = 3)\n",
    "\n",
    "gs_model_2 = gs.fit(X_train,y_train)\n",
    "all_the_metrics(\"Model_2\",gs_model_2.score(X_train,y_train),y_train,gs_model_2.predict(X_train),gs_model_2.score(X_test,y_test),y_test,gs_model_2.predict(X_test))"
   ]
  },
  {
   "cell_type": "code",
   "execution_count": 9,
   "metadata": {},
   "outputs": [],
   "source": [
    "with open('../assets/gs_model_2.pkl', 'wb+') as f:\n",
    "    pickle.dump(gs_model_2, f)"
   ]
  },
  {
   "cell_type": "code",
   "execution_count": 10,
   "metadata": {},
   "outputs": [
    {
     "name": "stdout",
     "output_type": "stream",
     "text": [
      "Fitting 3 folds for each of 36 candidates, totalling 108 fits\n"
     ]
    },
    {
     "name": "stderr",
     "output_type": "stream",
     "text": [
      "[Parallel(n_jobs=3)]: Done  62 tasks      | elapsed:    3.4s\n",
      "[Parallel(n_jobs=3)]: Done 108 out of 108 | elapsed:    6.2s finished\n"
     ]
    }
   ],
   "source": [
    "steps = [\n",
    "    (\"var_thres\", VarianceThreshold(.99)),\n",
    "    (\"scaler\", StandardScaler()),\n",
    "    (\"kbest\", SelectKBest(score_func=f_regression)),\n",
    "    (\"encv\", ElasticNetCV(random_state=42,l1_ratio=1))\n",
    "]\n",
    "\n",
    "pipe = Pipeline(steps)\n",
    "\n",
    "param_grid = {\n",
    "    \"var_thres__threshold\":[.1,.8,.95,.99],\n",
    "    \"kbest__k\": [9,13,21],\n",
    "    \"encv__cv\": [3,7,13],\n",
    "}\n",
    "\n",
    "gs = GridSearchCV(pipe, param_grid, verbose=1,\n",
    "                      cv=3,\n",
    "                      return_train_score=True,\n",
    "                      n_jobs = 3)\n",
    "\n",
    "gs_model_3 = gs.fit(X_train,y_train)\n",
    "all_the_metrics(\"Model_3\",gs_model_3.score(X_train,y_train),y_train,gs_model_3.predict(X_train),gs_model_3.score(X_test,y_test),y_test,gs_model_3.predict(X_test))"
   ]
  },
  {
   "cell_type": "code",
   "execution_count": 11,
   "metadata": {},
   "outputs": [
    {
     "data": {
      "text/plain": [
       "Pipeline(memory=None,\n",
       "     steps=[('var_thres', VarianceThreshold(threshold=0.8)), ('scaler', StandardScaler(copy=True, with_mean=True, with_std=True)), ('kbest', SelectKBest(k=21, score_func=<function f_regression at 0x0000026FE78FCF28>)), ('encv', ElasticNetCV(alphas=None, copy_X=True, cv=7, eps=0.001, fit_intercept=True,\n",
       "       l1_ratio=1, max_iter=1000, n_alphas=100, n_jobs=1, normalize=False,\n",
       "       positive=False, precompute='auto', random_state=42,\n",
       "       selection='cyclic', tol=0.0001, verbose=0))])"
      ]
     },
     "execution_count": 11,
     "metadata": {},
     "output_type": "execute_result"
    }
   ],
   "source": [
    "gs_model_3.best_estimator_"
   ]
  },
  {
   "cell_type": "code",
   "execution_count": 12,
   "metadata": {},
   "outputs": [],
   "source": [
    "with open('../assets/gs_model_3.pkl', 'wb+') as f:\n",
    "    pickle.dump(gs_model_3, f)"
   ]
  },
  {
   "cell_type": "code",
   "execution_count": 13,
   "metadata": {},
   "outputs": [
    {
     "data": {
      "text/html": [
       "<div>\n",
       "<style scoped>\n",
       "    .dataframe tbody tr th:only-of-type {\n",
       "        vertical-align: middle;\n",
       "    }\n",
       "\n",
       "    .dataframe tbody tr th {\n",
       "        vertical-align: top;\n",
       "    }\n",
       "\n",
       "    .dataframe thead th {\n",
       "        text-align: right;\n",
       "    }\n",
       "</style>\n",
       "<table border=\"1\" class=\"dataframe\">\n",
       "  <thead>\n",
       "    <tr style=\"text-align: right;\">\n",
       "      <th></th>\n",
       "      <th>score</th>\n",
       "      <th>explained_variance</th>\n",
       "      <th>mean_absolute_error</th>\n",
       "      <th>mean_squared_error</th>\n",
       "      <th>median_absolute_error</th>\n",
       "      <th>r2</th>\n",
       "    </tr>\n",
       "  </thead>\n",
       "  <tbody>\n",
       "    <tr>\n",
       "      <th>Model_3</th>\n",
       "      <td>0.899173</td>\n",
       "      <td>0.899173</td>\n",
       "      <td>0.0938248</td>\n",
       "      <td>0.0170187</td>\n",
       "      <td>0.0712579</td>\n",
       "      <td>0.899173</td>\n",
       "    </tr>\n",
       "    <tr>\n",
       "      <th>Model_3_test</th>\n",
       "      <td>0.88639</td>\n",
       "      <td>0.886558</td>\n",
       "      <td>0.0971984</td>\n",
       "      <td>0.0172371</td>\n",
       "      <td>0.0773691</td>\n",
       "      <td>0.88639</td>\n",
       "    </tr>\n",
       "    <tr>\n",
       "      <th>Model_2</th>\n",
       "      <td>0.883792</td>\n",
       "      <td>0.883792</td>\n",
       "      <td>0.0991255</td>\n",
       "      <td>0.0196148</td>\n",
       "      <td>0.0753939</td>\n",
       "      <td>0.883792</td>\n",
       "    </tr>\n",
       "    <tr>\n",
       "      <th>Model_2_test</th>\n",
       "      <td>0.87155</td>\n",
       "      <td>0.871566</td>\n",
       "      <td>0.103788</td>\n",
       "      <td>0.0194887</td>\n",
       "      <td>0.0797936</td>\n",
       "      <td>0.87155</td>\n",
       "    </tr>\n",
       "    <tr>\n",
       "      <th>Model_1</th>\n",
       "      <td>0.87072</td>\n",
       "      <td>0.87072</td>\n",
       "      <td>0.106896</td>\n",
       "      <td>0.0218213</td>\n",
       "      <td>0.0815007</td>\n",
       "      <td>0.87072</td>\n",
       "    </tr>\n",
       "    <tr>\n",
       "      <th>Model_1_test</th>\n",
       "      <td>0.856246</td>\n",
       "      <td>0.85625</td>\n",
       "      <td>0.109437</td>\n",
       "      <td>0.0218107</td>\n",
       "      <td>0.0836504</td>\n",
       "      <td>0.856246</td>\n",
       "    </tr>\n",
       "    <tr>\n",
       "      <th>Model_4</th>\n",
       "      <td>NaN</td>\n",
       "      <td>NaN</td>\n",
       "      <td>NaN</td>\n",
       "      <td>NaN</td>\n",
       "      <td>NaN</td>\n",
       "      <td>NaN</td>\n",
       "    </tr>\n",
       "    <tr>\n",
       "      <th>Model_4_test</th>\n",
       "      <td>NaN</td>\n",
       "      <td>NaN</td>\n",
       "      <td>NaN</td>\n",
       "      <td>NaN</td>\n",
       "      <td>NaN</td>\n",
       "      <td>NaN</td>\n",
       "    </tr>\n",
       "    <tr>\n",
       "      <th>Model_5</th>\n",
       "      <td>NaN</td>\n",
       "      <td>NaN</td>\n",
       "      <td>NaN</td>\n",
       "      <td>NaN</td>\n",
       "      <td>NaN</td>\n",
       "      <td>NaN</td>\n",
       "    </tr>\n",
       "    <tr>\n",
       "      <th>Model_5_test</th>\n",
       "      <td>NaN</td>\n",
       "      <td>NaN</td>\n",
       "      <td>NaN</td>\n",
       "      <td>NaN</td>\n",
       "      <td>NaN</td>\n",
       "      <td>NaN</td>\n",
       "    </tr>\n",
       "  </tbody>\n",
       "</table>\n",
       "</div>"
      ],
      "text/plain": [
       "                 score explained_variance mean_absolute_error  \\\n",
       "Model_3       0.899173           0.899173           0.0938248   \n",
       "Model_3_test   0.88639           0.886558           0.0971984   \n",
       "Model_2       0.883792           0.883792           0.0991255   \n",
       "Model_2_test   0.87155           0.871566            0.103788   \n",
       "Model_1        0.87072            0.87072            0.106896   \n",
       "Model_1_test  0.856246            0.85625            0.109437   \n",
       "Model_4            NaN                NaN                 NaN   \n",
       "Model_4_test       NaN                NaN                 NaN   \n",
       "Model_5            NaN                NaN                 NaN   \n",
       "Model_5_test       NaN                NaN                 NaN   \n",
       "\n",
       "             mean_squared_error median_absolute_error        r2  \n",
       "Model_3               0.0170187             0.0712579  0.899173  \n",
       "Model_3_test          0.0172371             0.0773691   0.88639  \n",
       "Model_2               0.0196148             0.0753939  0.883792  \n",
       "Model_2_test          0.0194887             0.0797936   0.87155  \n",
       "Model_1               0.0218213             0.0815007   0.87072  \n",
       "Model_1_test          0.0218107             0.0836504  0.856246  \n",
       "Model_4                     NaN                   NaN       NaN  \n",
       "Model_4_test                NaN                   NaN       NaN  \n",
       "Model_5                     NaN                   NaN       NaN  \n",
       "Model_5_test                NaN                   NaN       NaN  "
      ]
     },
     "execution_count": 13,
     "metadata": {},
     "output_type": "execute_result"
    }
   ],
   "source": [
    "models_df.sort_values(\"r2\",ascending=False)"
   ]
  },
  {
   "cell_type": "code",
   "execution_count": 14,
   "metadata": {},
   "outputs": [],
   "source": [
    "with open('../assets/gs_model_3.pkl', 'wb+') as f:\n",
    "    pickle.dump(gs_model_3, f)"
   ]
  }
 ],
 "metadata": {
  "kernelspec": {
   "display_name": "Python 3",
   "language": "python",
   "name": "python3"
  },
  "language_info": {
   "codemirror_mode": {
    "name": "ipython",
    "version": 3
   },
   "file_extension": ".py",
   "mimetype": "text/x-python",
   "name": "python",
   "nbconvert_exporter": "python",
   "pygments_lexer": "ipython3",
   "version": "3.6.5"
  }
 },
 "nbformat": 4,
 "nbformat_minor": 2
}
